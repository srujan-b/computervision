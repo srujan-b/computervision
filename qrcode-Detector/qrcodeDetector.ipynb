{
  "nbformat": 4,
  "nbformat_minor": 0,
  "metadata": {
    "colab": {
      "provenance": [],
      "authorship_tag": "ABX9TyObFQn5S+Oiz8ptqvEgIBt7",
      "include_colab_link": true
    },
    "kernelspec": {
      "name": "python3",
      "display_name": "Python 3"
    },
    "language_info": {
      "name": "python"
    }
  },
  "cells": [
    {
      "cell_type": "markdown",
      "metadata": {
        "id": "view-in-github",
        "colab_type": "text"
      },
      "source": [
        "<a href=\"https://colab.research.google.com/github/srujan-b/computervision/blob/main/qrcode-Detector/qrcodeDetector.ipynb\" target=\"_parent\"><img src=\"https://colab.research.google.com/assets/colab-badge.svg\" alt=\"Open In Colab\"/></a>"
      ]
    },
    {
      "cell_type": "code",
      "execution_count": null,
      "metadata": {
        "id": "8ctTUrEwub4X"
      },
      "outputs": [],
      "source": []
    },
    {
      "cell_type": "markdown",
      "source": [
        "In this project, we aim to develop a QR Code Detector and Decoder utilizing the OpenCV library from the ground up. Our objective is to create a comprehensive solution for detecting and decoding QR codes. Following the implementation, we will apply our QR Code Detector to analyze a sample image provided below."
      ],
      "metadata": {
        "id": "9uTpdKXYweny"
      }
    },
    {
      "cell_type": "markdown",
      "source": [
        "**Here are the key steps to be undertaken in this project:**\n",
        "\n",
        "\n",
        "**Image Loading:**\n",
        "\n",
        "Import the target image for analysis.\n",
        "QR Code Detection:\n",
        "\n",
        "Utilize OpenCV to identify QR codes within the loaded image.\n",
        "\n",
        "**Bounding Box Visualization:**\n",
        "\n",
        "Implement a mechanism to draw a bounding box around the identified QR code for clear visualization.\n",
        "\n",
        "**Decoding Text:**\n",
        "\n",
        "Employ decoding algorithms to extract text information from the detected QR code.\n",
        "\n",
        "**Output Presentation:**\n",
        "\n",
        "Print the decoded text for reference and further analysis.\n",
        "\n",
        "**Result Image Handling:**\n",
        "\n",
        "Save the processed image with the bounding box to provide a visual representation of the detected QR code.\n",
        "\n",
        "**Display:**\n",
        "\n",
        "Showcase the result image to facilitate examination and validation of the QR code detection and decoding process."
      ],
      "metadata": {
        "id": "rrrB-yOgw4kI"
      }
    },
    {
      "cell_type": "code",
      "source": [
        "!git clone https://github.com/srujan-b/computervision.git"
      ],
      "metadata": {
        "id": "Z7RLObnkxaGq",
        "outputId": "393a66b3-687c-44cf-8f20-12afdb5f18d5",
        "colab": {
          "base_uri": "https://localhost:8080/"
        }
      },
      "execution_count": 2,
      "outputs": [
        {
          "output_type": "stream",
          "name": "stdout",
          "text": [
            "fatal: destination path 'computervision' already exists and is not an empty directory.\n"
          ]
        }
      ]
    },
    {
      "cell_type": "code",
      "source": [
        "%matplotlib inline\n",
        "\n",
        "# Import modules\n",
        "import cv2\n",
        "import matplotlib.pyplot as plt\n"
      ],
      "metadata": {
        "id": "8ppYPq8zwoQ-"
      },
      "execution_count": null,
      "outputs": []
    },
    {
      "cell_type": "code",
      "source": [
        "from google.colab import drive\n",
        "drive.mount('/content/drive')"
      ],
      "metadata": {
        "id": "dNnVfGVCx9nX"
      },
      "execution_count": null,
      "outputs": []
    }
  ]
}