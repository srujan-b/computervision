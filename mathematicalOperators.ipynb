{
  "nbformat": 4,
  "nbformat_minor": 0,
  "metadata": {
    "colab": {
      "provenance": [],
      "authorship_tag": "ABX9TyP1+uXlqJqNOZo5TV08SCDn",
      "include_colab_link": true
    },
    "kernelspec": {
      "name": "python3",
      "display_name": "Python 3"
    },
    "language_info": {
      "name": "python"
    }
  },
  "cells": [
    {
      "cell_type": "markdown",
      "metadata": {
        "id": "view-in-github",
        "colab_type": "text"
      },
      "source": [
        "<a href=\"https://colab.research.google.com/github/srujan-b/computervision/blob/main/mathematicalOperators.ipynb\" target=\"_parent\"><img src=\"https://colab.research.google.com/assets/colab-badge.svg\" alt=\"Open In Colab\"/></a>"
      ]
    },
    {
      "cell_type": "markdown",
      "source": [
        "####Let's explore how bitwise operators like AND, NOT, and OR can be applied in computer vision by using the example of placing a Christmas hat on Elon Musk. Here are the steps to understand these bitwise operations:"
      ],
      "metadata": {
        "id": "mrnDNUMGWumn"
      }
    },
    {
      "cell_type": "markdown",
      "source": [
        "Trump Image source : https://www.usmagazine.com/celebrity-news/news/donald-trump-begs-fox-news-to-stop-using-orange-photo-of-him/"
      ],
      "metadata": {
        "id": "_4vpZn5XYYJz"
      }
    },
    {
      "cell_type": "code",
      "source": [
        "# Importing necessary libraries\n",
        "import cv2\n",
        "import numpy as np\n",
        "import os\n",
        "import matplotlib.pyplot as plt\n",
        "%matplotlib inline"
      ],
      "metadata": {
        "id": "TfPXwt84W0As"
      },
      "execution_count": 1,
      "outputs": []
    },
    {
      "cell_type": "code",
      "source": [
        "# Import the Matplotlib library for plotting\n",
        "import matplotlib\n",
        "\n",
        "# Set the default figure size for Matplotlib plots to 6.0 inches by 6.0 inches\n",
        "matplotlib.rcParams['figure.figsize'] = (6.0, 6.0)\n",
        "\n",
        "# Set the default colormap for images to grayscale\n",
        "matplotlib.rcParams['image.cmap'] = 'gray'\n"
      ],
      "metadata": {
        "id": "EzZzsOlrW4CQ"
      },
      "execution_count": 2,
      "outputs": []
    },
    {
      "cell_type": "code",
      "source": [],
      "metadata": {
        "id": "3fl45syLXG4G"
      },
      "execution_count": null,
      "outputs": []
    }
  ]
}